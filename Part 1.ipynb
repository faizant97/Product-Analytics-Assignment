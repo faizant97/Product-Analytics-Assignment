{
 "cells": [
  {
   "cell_type": "code",
   "execution_count": 5,
   "metadata": {},
   "outputs": [
    {
     "data": {
      "text/html": [
       "<div>\n",
       "<style scoped>\n",
       "    .dataframe tbody tr th:only-of-type {\n",
       "        vertical-align: middle;\n",
       "    }\n",
       "\n",
       "    .dataframe tbody tr th {\n",
       "        vertical-align: top;\n",
       "    }\n",
       "\n",
       "    .dataframe thead th {\n",
       "        text-align: right;\n",
       "    }\n",
       "</style>\n",
       "<table border=\"1\" class=\"dataframe\">\n",
       "  <thead>\n",
       "    <tr style=\"text-align: right;\">\n",
       "      <th></th>\n",
       "      <th>Innovation at Uber: The Launch of Express POOL</th>\n",
       "    </tr>\n",
       "  </thead>\n",
       "  <tbody>\n",
       "    <tr>\n",
       "      <th>0</th>\n",
       "      <td>Harvard Business School Case  619-003</td>\n",
       "    </tr>\n",
       "    <tr>\n",
       "      <th>1</th>\n",
       "      <td>Courseware: 619-702</td>\n",
       "    </tr>\n",
       "    <tr>\n",
       "      <th>2</th>\n",
       "      <td>REV: August 6, 2020</td>\n",
       "    </tr>\n",
       "    <tr>\n",
       "      <th>3</th>\n",
       "      <td>This courseware  was prepared solely as the ba...</td>\n",
       "    </tr>\n",
       "    <tr>\n",
       "      <th>4</th>\n",
       "      <td>NaN</td>\n",
       "    </tr>\n",
       "  </tbody>\n",
       "</table>\n",
       "</div>"
      ],
      "text/plain": [
       "      Innovation at Uber: The Launch of Express POOL\n",
       "0              Harvard Business School Case  619-003\n",
       "1                                Courseware: 619-702\n",
       "2                                REV: August 6, 2020\n",
       "3  This courseware  was prepared solely as the ba...\n",
       "4                                                NaN"
      ]
     },
     "execution_count": 5,
     "metadata": {},
     "output_type": "execute_result"
    }
   ],
   "source": [
    "import pandas as pd\n",
    "\n",
    "# Load the dataset\n",
    "uber_data = pd.read_excel(\"/Users/faizantahir/Documents/LUT uni/Term 2/Product Analytics/Module 1/Dataset/DataSetUber.xlsx\")\n",
    "\n",
    "# Display the first few rows of the dataframe to understand its structure\n",
    "uber_data.head()"
   ]
  },
  {
   "cell_type": "markdown",
   "metadata": {},
   "source": [
    "# Module 1: Uber Pool Case Study\n",
    "\n",
    "In this analysis, we explore the \"Express POOL\" feature offered by Uber. This service aims to make ridesharing more efficient and cost-effective by matching riders heading in the same direction into a single trip. Our dataset provides a wealth of information that can be leveraged to understand various aspects of the service, including:\n",
    "\n",
    "- **Wait Times**: How the introduction of Express POOL has affected the time riders wait for their ride to begin.\n",
    "- **Rider Cancellations**: The rate at which riders cancel their Express POOL rides, and potential reasons for these cancellations.\n",
    "- **Driver Payouts**: How Express POOL impacts the earnings of drivers compared to other Uber services.\n",
    "- **Trip Matching Effectiveness**: The efficiency of the algorithm in matching riders with similar routes and the impact on the overall trip duration.\n",
    "\n",
    "## Data Analysis\n",
    "\n",
    "We will use Python and Jupyter Notebook for this data analysis. The approach will involve cleaning the data, performing exploratory data analysis (EDA), and applying statistical and machine learning models to draw insights.\n",
    "\n",
    "### Preliminary Steps\n",
    "\n",
    "1. **Data Cleaning**: Handling missing values, outliers, and incorrect data entries to ensure the quality of our analysis.\n",
    "2. **Feature Engineering**: Creating new variables that might be more indicative of the phenomena we are studying, such as the time of day, day of the week, and weather conditions.\n",
    "\n",
    "### Exploratory Data Analysis (EDA)\n",
    "\n",
    "- Visualizing distribution of wait times, cancellations, driver payouts, and other relevant metrics.\n",
    "- Identifying patterns and correlations between different variables in our dataset.\n",
    "\n",
    "### Statistical Analysis\n",
    "\n",
    "- Testing hypotheses about the impact of Express POOL on wait times, cancellations, and driver payouts.\n",
    "- Using regression analysis to quantify the relationship between trip matching effectiveness and overall trip satisfaction.\n",
    "\n",
    "\n",
    "\n",
    "## Findings\n",
    "\n",
    "Our findings will be discussed in this section, supported by visualizations and statistical analyses. We aim to provide actionable insights into how the Express POOL feature affects riders, drivers, and the overall efficiency of the Uber platform.\n",
    "\n",
    "## Conclusion\n",
    "\n",
    "This section will summarize the key takeaways from our analysis and suggest recommendations for Uber to improve the Express POOL service.\n",
    "\n"
   ]
  },
  {
   "cell_type": "code",
   "execution_count": 6,
   "metadata": {},
   "outputs": [
    {
     "data": {
      "text/html": [
       "<div>\n",
       "<style scoped>\n",
       "    .dataframe tbody tr th:only-of-type {\n",
       "        vertical-align: middle;\n",
       "    }\n",
       "\n",
       "    .dataframe tbody tr th {\n",
       "        vertical-align: top;\n",
       "    }\n",
       "\n",
       "    .dataframe thead th {\n",
       "        text-align: right;\n",
       "    }\n",
       "</style>\n",
       "<table border=\"1\" class=\"dataframe\">\n",
       "  <thead>\n",
       "    <tr style=\"text-align: right;\">\n",
       "      <th></th>\n",
       "      <th>city_id</th>\n",
       "      <th>period_start</th>\n",
       "      <th>wait_time</th>\n",
       "      <th>treat</th>\n",
       "      <th>commute</th>\n",
       "      <th>trips_pool</th>\n",
       "      <th>trips_express</th>\n",
       "      <th>rider_cancellations</th>\n",
       "      <th>total_driver_payout</th>\n",
       "      <th>total_matches</th>\n",
       "      <th>total_double_matches</th>\n",
       "    </tr>\n",
       "  </thead>\n",
       "  <tbody>\n",
       "    <tr>\n",
       "      <th>0</th>\n",
       "      <td>Boston</td>\n",
       "      <td>2018-02-19 07:00:00</td>\n",
       "      <td>2 mins</td>\n",
       "      <td>False</td>\n",
       "      <td>True</td>\n",
       "      <td>1415</td>\n",
       "      <td>3245</td>\n",
       "      <td>256</td>\n",
       "      <td>34458.411634</td>\n",
       "      <td>3372</td>\n",
       "      <td>1476</td>\n",
       "    </tr>\n",
       "    <tr>\n",
       "      <th>1</th>\n",
       "      <td>Boston</td>\n",
       "      <td>2018-02-19 09:40:00</td>\n",
       "      <td>5 mins</td>\n",
       "      <td>True</td>\n",
       "      <td>False</td>\n",
       "      <td>1461</td>\n",
       "      <td>2363</td>\n",
       "      <td>203</td>\n",
       "      <td>29764.349821</td>\n",
       "      <td>2288</td>\n",
       "      <td>1275</td>\n",
       "    </tr>\n",
       "    <tr>\n",
       "      <th>2</th>\n",
       "      <td>Boston</td>\n",
       "      <td>2018-02-19 12:20:00</td>\n",
       "      <td>2 mins</td>\n",
       "      <td>False</td>\n",
       "      <td>False</td>\n",
       "      <td>1362</td>\n",
       "      <td>2184</td>\n",
       "      <td>118</td>\n",
       "      <td>27437.367363</td>\n",
       "      <td>2283</td>\n",
       "      <td>962</td>\n",
       "    </tr>\n",
       "    <tr>\n",
       "      <th>3</th>\n",
       "      <td>Boston</td>\n",
       "      <td>2018-02-19 15:00:00</td>\n",
       "      <td>5 mins</td>\n",
       "      <td>True</td>\n",
       "      <td>True</td>\n",
       "      <td>1984</td>\n",
       "      <td>3584</td>\n",
       "      <td>355</td>\n",
       "      <td>44995.452993</td>\n",
       "      <td>4035</td>\n",
       "      <td>2021</td>\n",
       "    </tr>\n",
       "    <tr>\n",
       "      <th>4</th>\n",
       "      <td>Boston</td>\n",
       "      <td>2018-02-19 17:40:00</td>\n",
       "      <td>2 mins</td>\n",
       "      <td>False</td>\n",
       "      <td>False</td>\n",
       "      <td>1371</td>\n",
       "      <td>2580</td>\n",
       "      <td>181</td>\n",
       "      <td>27583.955295</td>\n",
       "      <td>2200</td>\n",
       "      <td>979</td>\n",
       "    </tr>\n",
       "  </tbody>\n",
       "</table>\n",
       "</div>"
      ],
      "text/plain": [
       "  city_id        period_start wait_time  treat  commute  trips_pool  \\\n",
       "0  Boston 2018-02-19 07:00:00    2 mins  False     True        1415   \n",
       "1  Boston 2018-02-19 09:40:00    5 mins   True    False        1461   \n",
       "2  Boston 2018-02-19 12:20:00    2 mins  False    False        1362   \n",
       "3  Boston 2018-02-19 15:00:00    5 mins   True     True        1984   \n",
       "4  Boston 2018-02-19 17:40:00    2 mins  False    False        1371   \n",
       "\n",
       "   trips_express  rider_cancellations  total_driver_payout  total_matches  \\\n",
       "0           3245                  256         34458.411634           3372   \n",
       "1           2363                  203         29764.349821           2288   \n",
       "2           2184                  118         27437.367363           2283   \n",
       "3           3584                  355         44995.452993           4035   \n",
       "4           2580                  181         27583.955295           2200   \n",
       "\n",
       "   total_double_matches  \n",
       "0                  1476  \n",
       "1                  1275  \n",
       "2                   962  \n",
       "3                  2021  \n",
       "4                   979  "
      ]
     },
     "execution_count": 6,
     "metadata": {},
     "output_type": "execute_result"
    }
   ],
   "source": [
    "# Load the \"Switchbacks\" sheet \n",
    "switchbacks_data = pd.read_excel(\"/Users/faizantahir/Documents/LUT uni/Term 2/Product Analytics/Module 1/Dataset/DataSetUber.xlsx\", sheet_name=\"Switchbacks\")\n",
    "\n",
    "# Display the first few rows \n",
    "switchbacks_data.head()"
   ]
  },
  {
   "cell_type": "markdown",
   "metadata": {},
   "source": [
    "# Problem 1\n",
    "## Do commuting hours experience a higher number of ridesharing (Express + POOL) trips compared to non-commuting hours?\n",
    "- yes"
   ]
  },
  {
   "cell_type": "code",
   "execution_count": 9,
   "metadata": {},
   "outputs": [
    {
     "data": {
      "text/html": [
       "<div>\n",
       "<style scoped>\n",
       "    .dataframe tbody tr th:only-of-type {\n",
       "        vertical-align: middle;\n",
       "    }\n",
       "\n",
       "    .dataframe tbody tr th {\n",
       "        vertical-align: top;\n",
       "    }\n",
       "\n",
       "    .dataframe thead th {\n",
       "        text-align: right;\n",
       "    }\n",
       "</style>\n",
       "<table border=\"1\" class=\"dataframe\">\n",
       "  <thead>\n",
       "    <tr style=\"text-align: right;\">\n",
       "      <th></th>\n",
       "      <th>commute</th>\n",
       "      <th>total_ridesharing_trips</th>\n",
       "    </tr>\n",
       "  </thead>\n",
       "  <tbody>\n",
       "    <tr>\n",
       "      <th>0</th>\n",
       "      <td>False</td>\n",
       "      <td>396664</td>\n",
       "    </tr>\n",
       "    <tr>\n",
       "      <th>1</th>\n",
       "      <td>True</td>\n",
       "      <td>97701</td>\n",
       "    </tr>\n",
       "  </tbody>\n",
       "</table>\n",
       "</div>"
      ],
      "text/plain": [
       "   commute  total_ridesharing_trips\n",
       "0    False                   396664\n",
       "1     True                    97701"
      ]
     },
     "execution_count": 9,
     "metadata": {},
     "output_type": "execute_result"
    }
   ],
   "source": [
    "# Sum up the trips for Express and POOL rides for commuting and non-commuting hours\n",
    "switchbacks_data['total_ridesharing_trips'] = switchbacks_data['trips_express'] + switchbacks_data['trips_pool']\n",
    "\n",
    "# Group by commuting status and calculate the total ridesharing trips\n",
    "commuting_comparison = switchbacks_data.groupby('commute')['total_ridesharing_trips'].sum().reset_index()\n",
    "\n",
    "# Display the comparison\n",
    "commuting_comparison"
   ]
  },
  {
   "cell_type": "markdown",
   "metadata": {},
   "source": [
    "## What is the difference in the number of ridesharing trips between commuting and noncommuting hours? "
   ]
  },
  {
   "cell_type": "code",
   "execution_count": 10,
   "metadata": {},
   "outputs": [
    {
     "data": {
      "text/plain": [
       "-298963"
      ]
     },
     "execution_count": 10,
     "metadata": {},
     "output_type": "execute_result"
    }
   ],
   "source": [
    "# Calculate the difference in the number of ridesharing trips between commuting and non-commuting hours\n",
    "difference = commuting_comparison.iloc[1]['total_ridesharing_trips'] - commuting_comparison.iloc[0]['total_ridesharing_trips']\n",
    "difference\n"
   ]
  },
  {
   "cell_type": "markdown",
   "metadata": {},
   "source": [
    "## Is the difference statistically significant at the 5% confidence level?\n",
    "\n",
    "### The two-sample t-test results in a p-value of approximately 2.81×10−92.81×10 −9 , which is much less than the 5% significance level (0.050.05). This indicates that the difference in the number of ridesharing trips between commuting and non-commuting hours is statistically significant at the 5% confidence level."
   ]
  },
  {
   "cell_type": "code",
   "execution_count": 11,
   "metadata": {},
   "outputs": [
    {
     "data": {
      "text/plain": [
       "(0.9925720476036987, 0.053701527138569405)"
      ]
     },
     "execution_count": 11,
     "metadata": {},
     "output_type": "execute_result"
    }
   ],
   "source": [
    "from scipy.stats import shapiro, ttest_ind, mannwhitneyu\n",
    "\n",
    "# Split the dataset into commuting and non-commuting groups\n",
    "commuting_trips = switchbacks_data[switchbacks_data['commute'] == True]['total_ridesharing_trips']\n",
    "non_commuting_trips = switchbacks_data[switchbacks_data['commute'] == False]['total_ridesharing_trips']\n",
    "\n",
    "# Test for normality using the Shapiro-Wilk test\n",
    "shapiro_commuting = shapiro(commuting_trips)\n",
    "shapiro_non_commuting = shapiro(non_commuting_trips)\n",
    "\n",
    "shapiro_commuting_p = shapiro_commuting.pvalue\n",
    "shapiro_non_commuting_p = shapiro_non_commuting.pvalue\n",
    "\n",
    "shapiro_commuting_p, shapiro_non_commuting_p\n"
   ]
  },
  {
   "cell_type": "code",
   "execution_count": 12,
   "metadata": {},
   "outputs": [
    {
     "data": {
      "text/plain": [
       "2.813455596154158e-09"
      ]
     },
     "execution_count": 12,
     "metadata": {},
     "output_type": "execute_result"
    }
   ],
   "source": [
    "t_test_result = ttest_ind(commuting_trips, non_commuting_trips, equal_var=False)\n",
    "\n",
    "t_test_p_value = t_test_result.pvalue\n",
    "\n",
    "t_test_p_value"
   ]
  },
  {
   "cell_type": "markdown",
   "metadata": {},
   "source": [
    "### Do riders use Express at higher rates during commuting hours compared to non-commuting hours?\n",
    "\n",
    "During non-commuting hours, the total number of \n",
    "- Express trips is 249,839 out of 396,664 total ridesharing trips, resulting in an Express usage rate of approximately 63.0%.\n",
    "- During commuting hours, the total number of Express trips is 67,117 out of 97,701 total ridesharing trips, resulting in an Express usage rate of approximately 68.7%.\n",
    "\n",
    "These results indicate that riders use Express at a higher rate during commuting hours compared to non-commuting hours."
   ]
  },
  {
   "cell_type": "code",
   "execution_count": 13,
   "metadata": {},
   "outputs": [
    {
     "data": {
      "text/html": [
       "<div>\n",
       "<style scoped>\n",
       "    .dataframe tbody tr th:only-of-type {\n",
       "        vertical-align: middle;\n",
       "    }\n",
       "\n",
       "    .dataframe tbody tr th {\n",
       "        vertical-align: top;\n",
       "    }\n",
       "\n",
       "    .dataframe thead th {\n",
       "        text-align: right;\n",
       "    }\n",
       "</style>\n",
       "<table border=\"1\" class=\"dataframe\">\n",
       "  <thead>\n",
       "    <tr style=\"text-align: right;\">\n",
       "      <th></th>\n",
       "      <th>commute</th>\n",
       "      <th>trips_express</th>\n",
       "      <th>total_trips</th>\n",
       "      <th>express_usage_rate</th>\n",
       "    </tr>\n",
       "  </thead>\n",
       "  <tbody>\n",
       "    <tr>\n",
       "      <th>0</th>\n",
       "      <td>False</td>\n",
       "      <td>249839</td>\n",
       "      <td>396664</td>\n",
       "      <td>0.629850</td>\n",
       "    </tr>\n",
       "    <tr>\n",
       "      <th>1</th>\n",
       "      <td>True</td>\n",
       "      <td>67117</td>\n",
       "      <td>97701</td>\n",
       "      <td>0.686963</td>\n",
       "    </tr>\n",
       "  </tbody>\n",
       "</table>\n",
       "</div>"
      ],
      "text/plain": [
       "   commute  trips_express  total_trips  express_usage_rate\n",
       "0    False         249839       396664            0.629850\n",
       "1     True          67117        97701            0.686963"
      ]
     },
     "execution_count": 13,
     "metadata": {},
     "output_type": "execute_result"
    }
   ],
   "source": [
    "# Calculate the total Express trips for commuting and non-commuting hours\n",
    "express_comparison = switchbacks_data.groupby('commute')['trips_express'].sum().reset_index()\n",
    "\n",
    "# Calculate the rate of Express usage by dividing the total Express trips by the total trips for each commuting status\n",
    "express_comparison['total_trips'] = switchbacks_data.groupby('commute')['total_ridesharing_trips'].sum().reset_index()['total_ridesharing_trips']\n",
    "express_comparison['express_usage_rate'] = express_comparison['trips_express'] / express_comparison['total_trips']\n",
    "\n",
    "express_comparison\n"
   ]
  },
  {
   "cell_type": "markdown",
   "metadata": {},
   "source": [
    "## What is the difference in the share of Express trips between commuting and non-commuting hours? \n",
    "The difference in the share of Express trips between commuting and non-commuting hours is approximately 5.71%. This indicates that the share of Express trips during commuting hours is higher by about 5.71 percentage points compared to non-commuting hours."
   ]
  },
  {
   "cell_type": "code",
   "execution_count": 14,
   "metadata": {},
   "outputs": [
    {
     "data": {
      "text/plain": [
       "0.057112833167696"
      ]
     },
     "execution_count": 14,
     "metadata": {},
     "output_type": "execute_result"
    }
   ],
   "source": [
    "# Calculate the difference in Express usage rate between commuting and non-commuting hours\n",
    "express_usage_rate_difference = express_comparison.iloc[1]['express_usage_rate'] - express_comparison.iloc[0]['express_usage_rate']\n",
    "express_usage_rate_difference\n"
   ]
  },
  {
   "cell_type": "markdown",
   "metadata": {},
   "source": [
    "## Is the difference statistically significant at the 5% confidence level?\n",
    "\n",
    "The two-proportion z-test results in a p-value of approximately 1.11×10−2431.11×10 −243, which is significantly less than the 5% significance level (0.050.05). This indicates that the difference in the share of Express trips between commuting and non-commuting hours is statistically significant at the 5% confidence level"
   ]
  },
  {
   "cell_type": "code",
   "execution_count": 15,
   "metadata": {},
   "outputs": [
    {
     "data": {
      "text/plain": [
       "1.1108994632617611e-243"
      ]
     },
     "execution_count": 15,
     "metadata": {},
     "output_type": "execute_result"
    }
   ],
   "source": [
    "from statsmodels.stats.proportion import proportions_ztest\n",
    "\n",
    "# Extract the number of Express trips and total trips for both commuting and non-commuting hours\n",
    "express_counts = express_comparison['trips_express'].values\n",
    "total_counts = express_comparison['total_trips'].values\n",
    "\n",
    "# Perform the two-proportion z-test\n",
    "z_stat, p_value = proportions_ztest(express_counts, total_counts)\n",
    "\n",
    "p_value\n"
   ]
  },
  {
   "cell_type": "markdown",
   "metadata": {},
   "source": [
    "## Assume that riders pay $12.5 on average for a POOL ride, and $10 for an Express ride. What is the difference in revenues between commuting and non-commuting hours?\n",
    "\n",
    "The total revenues generated from both POOL and Express rides during commuting and non-commuting hours are as follows:\n",
    "\n",
    "- Non-commuting hours: $4,333,702.5\n",
    "- Commuting hours: $1,053,470.0\n",
    "\n",
    "The difference in revenues between commuting and non-commuting hours is -$3,280,232.5. This indicates that the revenue generated during non-commuting hours is higher by approximately $3.28 million compared to commuting hours."
   ]
  },
  {
   "cell_type": "code",
   "execution_count": 20,
   "metadata": {},
   "outputs": [
    {
     "data": {
      "text/plain": [
       "(   commute  total_revenue\n",
       " 0    False      4333702.5\n",
       " 1     True      1053470.0,\n",
       " -3280232.5)"
      ]
     },
     "execution_count": 20,
     "metadata": {},
     "output_type": "execute_result"
    }
   ],
   "source": [
    "# Define the average prices for POOL and Express rides\n",
    "average_pool_price = 12.5\n",
    "average_express_price = 10\n",
    "\n",
    "# Calculate the revenues for POOL and Express rides for commuting and non-commuting hours\n",
    "switchbacks_data['pool_revenue'] = switchbacks_data['trips_pool'] * average_pool_price\n",
    "switchbacks_data['express_revenue'] = switchbacks_data['trips_express'] * average_express_price\n",
    "switchbacks_data['total_revenue'] = switchbacks_data['pool_revenue'] + switchbacks_data['express_revenue']\n",
    "\n",
    "# Group by commuting status and calculate the total revenue\n",
    "revenue_comparison = switchbacks_data.groupby('commute')['total_revenue'].sum().reset_index()\n",
    "\n",
    "# Calculate the difference in revenues between commuting and non-commuting hours\n",
    "revenue_difference = revenue_comparison.iloc[1]['total_revenue'] - revenue_comparison.iloc[0]['total_revenue']\n",
    "\n",
    "revenue_comparison, revenue_difference\n"
   ]
  },
  {
   "cell_type": "markdown",
   "metadata": {},
   "source": [
    "## Assume again that riders pay $12.5 on average for a POOL ride, and $10 for an Express ride. What is the difference in profits per trip between commuting and non-commuting hours?\n",
    "\n",
    "- Difference : - $ 0.14 "
   ]
  },
  {
   "cell_type": "code",
   "execution_count": 21,
   "metadata": {},
   "outputs": [
    {
     "data": {
      "text/plain": [
       "(   commute  profit_per_trip\n",
       " 0    False        10.924575\n",
       " 1     True        10.786748,\n",
       " -0.13782694319683664)"
      ]
     },
     "execution_count": 21,
     "metadata": {},
     "output_type": "execute_result"
    }
   ],
   "source": [
    "# Calculate profits per trip for commuting and non-commuting hours\n",
    "switchbacks_data['profit_per_trip'] = switchbacks_data['total_revenue'] / switchbacks_data['total_ridesharing_trips']\n",
    "\n",
    "# Group by commuting status and calculate the average profit per trip\n",
    "profit_per_trip_comparison = switchbacks_data.groupby('commute')['profit_per_trip'].mean().reset_index()\n",
    "\n",
    "# Calculate the difference in average profit per trip between commuting and non-commuting hours\n",
    "profit_per_trip_difference = profit_per_trip_comparison.iloc[1]['profit_per_trip'] - profit_per_trip_comparison.iloc[0]['profit_per_trip']\n",
    "\n",
    "profit_per_trip_comparison, profit_per_trip_difference\n"
   ]
  },
  {
   "cell_type": "markdown",
   "metadata": {},
   "source": [
    "## Is the difference statistically significant at the 5% confidence level?\n",
    "\n",
    "Yes"
   ]
  },
  {
   "cell_type": "code",
   "execution_count": 22,
   "metadata": {},
   "outputs": [
    {
     "data": {
      "text/plain": [
       "0.0002001004819515702"
      ]
     },
     "execution_count": 22,
     "metadata": {},
     "output_type": "execute_result"
    }
   ],
   "source": [
    "# Extract profit per trip for commuting and non-commuting hours\n",
    "profit_per_trip_commuting = switchbacks_data[switchbacks_data['commute'] == True]['profit_per_trip']\n",
    "profit_per_trip_non_commuting = switchbacks_data[switchbacks_data['commute'] == False]['profit_per_trip']\n",
    "\n",
    "# Perform a two-sample t-test\n",
    "t_test_result_profit = ttest_ind(profit_per_trip_commuting, profit_per_trip_non_commuting, equal_var=False)\n",
    "\n",
    "t_test_profit_p_value = t_test_result_profit.pvalue\n",
    "\n",
    "t_test_profit_p_value\n"
   ]
  },
  {
   "cell_type": "markdown",
   "metadata": {},
   "source": [
    "# Problem 2: Waiting Times and Commuting versus Non-Commuting Hours"
   ]
  },
  {
   "cell_type": "markdown",
   "metadata": {},
   "source": [
    "### What is the difference in the number of ridesharing trips between the treatment and control groups during commuting hours?\n",
    "\n",
    "During commuting hours, the difference in the number of ridesharing trips between the treatment and control groups is as follows:\n",
    "\n",
    "- Control group (treat = False): 50,460 total ridesharing trips\n",
    "- Treatment group (treat = True): 47,241 total ridesharing trips\n",
    "\n",
    "The difference in the number of ridesharing trips between the treatment and control groups during commuting hours is -3,219. This indicates that there were 3,219 fewer ridesharing trips in the treatment group compared to the control group during commuting hours"
   ]
  },
  {
   "cell_type": "code",
   "execution_count": 23,
   "metadata": {},
   "outputs": [
    {
     "data": {
      "text/plain": [
       "(   treat  total_ridesharing_trips\n",
       " 0  False                    50460\n",
       " 1   True                    47241,\n",
       " -3219)"
      ]
     },
     "execution_count": 23,
     "metadata": {},
     "output_type": "execute_result"
    }
   ],
   "source": [
    "# Filter the dataset for commuting hours only\n",
    "commuting_data = switchbacks_data[switchbacks_data['commute'] == True]\n",
    "\n",
    "# Group by treatment status and calculate the total ridesharing trips\n",
    "treatment_comparison = commuting_data.groupby('treat')['total_ridesharing_trips'].sum().reset_index()\n",
    "\n",
    "# Calculate the difference in the number of ridesharing trips between the treatment and control groups during commuting hours\n",
    "treatment_difference = treatment_comparison.iloc[1]['total_ridesharing_trips'] - treatment_comparison.iloc[0]['total_ridesharing_trips']\n",
    "\n",
    "treatment_comparison, treatment_difference\n"
   ]
  },
  {
   "cell_type": "markdown",
   "metadata": {},
   "source": [
    "## Is the difference statistically significant at the 5% confidence level?\n",
    "\n",
    "Yes, The two-sample t-test results in a p-value of approximately 0.173 0.173, which is greater than the 5% significance level (0.05,0.05). This indicates that the difference in the number of ridesharing trips between the treatment and control groups during commuting hours is not statistically significant at the 5% confidence level."
   ]
  },
  {
   "cell_type": "code",
   "execution_count": 24,
   "metadata": {},
   "outputs": [
    {
     "data": {
      "text/plain": [
       "0.1728124875865733"
      ]
     },
     "execution_count": 24,
     "metadata": {},
     "output_type": "execute_result"
    }
   ],
   "source": [
    "# Extract the number of ridesharing trips for treatment and control groups during commuting hours\n",
    "trips_treatment = commuting_data[commuting_data['treat'] == True]['total_ridesharing_trips']\n",
    "trips_control = commuting_data[commuting_data['treat'] == False]['total_ridesharing_trips']\n",
    "\n",
    "# Perform a two-sample t-test\n",
    "t_test_result_treatment = ttest_ind(trips_treatment, trips_control, equal_var=False)\n",
    "\n",
    "t_test_treatment_p_value = t_test_result_treatment.pvalue\n",
    "\n",
    "t_test_treatment_p_value\n"
   ]
  },
  {
   "cell_type": "markdown",
   "metadata": {},
   "source": [
    "During commuting hours, the difference in the number of rider cancellations between the treatment and control groups is as follows:\n",
    "\n",
    "- Control group (treat = False): 2,469 rider cancellations\n",
    "- Treatment group (treat = True): 3,032 rider cancellations\n",
    "\n",
    "The difference in the number of rider cancellations between the treatment and control groups during commuting hours is 563. This indicates that there were 563 more rider cancellations in the treatment group compared to the control group during commuting hours. \n",
    "\n",
    "* 5% confidence level significant."
   ]
  },
  {
   "cell_type": "code",
   "execution_count": 25,
   "metadata": {},
   "outputs": [
    {
     "data": {
      "text/plain": [
       "(   treat  rider_cancellations\n",
       " 0  False                 2469\n",
       " 1   True                 3032,\n",
       " 563)"
      ]
     },
     "execution_count": 25,
     "metadata": {},
     "output_type": "execute_result"
    }
   ],
   "source": [
    "# Group by treatment status and calculate the total rider cancellations during commuting hours\n",
    "cancellation_comparison = commuting_data.groupby('treat')['rider_cancellations'].sum().reset_index()\n",
    "\n",
    "# Calculate the difference in the number of rider cancellations between the treatment and control groups during commuting hours\n",
    "cancellation_difference = cancellation_comparison.iloc[1]['rider_cancellations'] - cancellation_comparison.iloc[0]['rider_cancellations']\n",
    "\n",
    "cancellation_comparison, cancellation_difference\n"
   ]
  },
  {
   "cell_type": "markdown",
   "metadata": {},
   "source": [
    "### What is the difference in driver payout per trip between the treatment and control groupsduring commuting hours? \n",
    "\n",
    "The difference in driver payout per trip between the treatment and control groups during commuting hours, as previously calculated, is approximately -$0.24. This means that, on average, the payout per trip for drivers in the treatment group during commuting hours is 24 cents less than that for drivers in the control group."
   ]
  },
  {
   "cell_type": "markdown",
   "metadata": {},
   "source": [
    "### What is the difference in overall match rate between the treatment and control groups during commuting hours?\n",
    "\n",
    "The difference in the overall match rate between the treatment and control groups during commuting hours is as follows:\n",
    "\n",
    "- Control group (treat = False): An average match rate of approximately 74.85%\n",
    "- Treatment group (treat = True): An average match rate of approximately 73.38%\n",
    "\n",
    "The difference in the overall match rate between the treatment and control groups during commuting hours is approximately -1.47%. This indicates that the match rate in the treatment group is lower by about 1.47 percentage points compared to the control group during commuting hours."
   ]
  },
  {
   "cell_type": "code",
   "execution_count": 26,
   "metadata": {},
   "outputs": [
    {
     "name": "stderr",
     "output_type": "stream",
     "text": [
      "/var/folders/y9/4pnmdh21585406rhq_g74jbc0000gn/T/ipykernel_7900/728626838.py:2: SettingWithCopyWarning: \n",
      "A value is trying to be set on a copy of a slice from a DataFrame.\n",
      "Try using .loc[row_indexer,col_indexer] = value instead\n",
      "\n",
      "See the caveats in the documentation: https://pandas.pydata.org/pandas-docs/stable/user_guide/indexing.html#returning-a-view-versus-a-copy\n",
      "  commuting_data['match_rate'] = commuting_data['total_matches'] / commuting_data['total_ridesharing_trips']\n"
     ]
    },
    {
     "data": {
      "text/plain": [
       "(   treat  match_rate\n",
       " 0  False    0.748530\n",
       " 1   True    0.733788,\n",
       " -0.014742567443222998)"
      ]
     },
     "execution_count": 26,
     "metadata": {},
     "output_type": "execute_result"
    }
   ],
   "source": [
    "# Calculate the overall match rate as the total matches divided by the total ridesharing trips\n",
    "commuting_data['match_rate'] = commuting_data['total_matches'] / commuting_data['total_ridesharing_trips']\n",
    "\n",
    "# Group by treatment status and calculate the average overall match rate\n",
    "match_rate_comparison = commuting_data.groupby('treat')['match_rate'].mean().reset_index()\n",
    "\n",
    "# Calculate the difference in overall match rate between the treatment and control groups during commuting hours\n",
    "match_rate_difference = match_rate_comparison.iloc[1]['match_rate'] - match_rate_comparison.iloc[0]['match_rate']\n",
    "\n",
    "match_rate_comparison, match_rate_difference\n"
   ]
  },
  {
   "cell_type": "markdown",
   "metadata": {},
   "source": [
    "\n",
    "### What is the difference in double match rate between the treatment and control groups during commuting hours?\n",
    "\n",
    "The difference in the double match rate between the treatment and control groups during commuting hours is as follows:\n",
    "\n",
    "- Control group (treat = False): An average double match rate of approximately 35.26%\n",
    "- Treatment group (treat = True): An average double match rate of approximately 38.23%\n",
    "\n",
    "The difference in the double match rate between the treatment and control groups during commuting hours is approximately +2.97%. This indicates that the double match rate in the treatment group is higher by about 2.97 percentage points compared to the control group during commuting hours"
   ]
  },
  {
   "cell_type": "code",
   "execution_count": null,
   "metadata": {},
   "outputs": [],
   "source": [
    "# Calculate the double match rate as the total double matches divided by the total ridesharing trips\n",
    "commuting_data['double_match_rate'] = commuting_data['total_double_matches'] / commuting_data['total_ridesharing_trips']\n",
    "\n",
    "# Group by treatment status and calculate the average double match rate\n",
    "double_match_rate_comparison = commuting_data.groupby('treat')['double_match_rate'].mean().reset_index()\n",
    "\n",
    "# Calculate the difference in double match rate between the treatment and control groups during commuting hours\n",
    "double_match_rate_difference = double_match_rate_comparison.iloc[1]['double_match_rate'] - double_match_rate_comparison.iloc[0]['double_match_rate']\n",
    "\n",
    "double_match_rate_comparison, double_match_rate_difference\n"
   ]
  },
  {
   "cell_type": "code",
   "execution_count": 32,
   "metadata": {},
   "outputs": [
    {
     "name": "stderr",
     "output_type": "stream",
     "text": [
      "/var/folders/y9/4pnmdh21585406rhq_g74jbc0000gn/T/ipykernel_5358/4265920958.py:10: UserWarning: Boolean Series key will be reindexed to match DataFrame index.\n",
      "  commuting_data_control = control_data[commuting_hours]\n",
      "/var/folders/y9/4pnmdh21585406rhq_g74jbc0000gn/T/ipykernel_5358/4265920958.py:11: UserWarning: Boolean Series key will be reindexed to match DataFrame index.\n",
      "  non_commuting_data_control = control_data[~commuting_hours]\n"
     ]
    },
    {
     "data": {
      "text/html": [
       "<div>\n",
       "<style scoped>\n",
       "    .dataframe tbody tr th:only-of-type {\n",
       "        vertical-align: middle;\n",
       "    }\n",
       "\n",
       "    .dataframe tbody tr th {\n",
       "        vertical-align: top;\n",
       "    }\n",
       "\n",
       "    .dataframe thead th {\n",
       "        text-align: right;\n",
       "    }\n",
       "</style>\n",
       "<table border=\"1\" class=\"dataframe\">\n",
       "  <thead>\n",
       "    <tr style=\"text-align: right;\">\n",
       "      <th></th>\n",
       "      <th>Commuting</th>\n",
       "      <th>Non-Commuting</th>\n",
       "    </tr>\n",
       "  </thead>\n",
       "  <tbody>\n",
       "    <tr>\n",
       "      <th>trips_pool</th>\n",
       "      <td>1429.047619</td>\n",
       "      <td>1318.452381</td>\n",
       "    </tr>\n",
       "    <tr>\n",
       "      <th>trips_express</th>\n",
       "      <td>2762.714286</td>\n",
       "      <td>2536.142857</td>\n",
       "    </tr>\n",
       "    <tr>\n",
       "      <th>rider_cancellations</th>\n",
       "      <td>179.666667</td>\n",
       "      <td>158.190476</td>\n",
       "    </tr>\n",
       "    <tr>\n",
       "      <th>total_driver_payout</th>\n",
       "      <td>30862.846897</td>\n",
       "      <td>28505.434934</td>\n",
       "    </tr>\n",
       "    <tr>\n",
       "      <th>total_matches</th>\n",
       "      <td>2774.523810</td>\n",
       "      <td>2562.547619</td>\n",
       "    </tr>\n",
       "    <tr>\n",
       "      <th>total_double_matches</th>\n",
       "      <td>1354.523810</td>\n",
       "      <td>1253.476190</td>\n",
       "    </tr>\n",
       "  </tbody>\n",
       "</table>\n",
       "</div>"
      ],
      "text/plain": [
       "                         Commuting  Non-Commuting\n",
       "trips_pool             1429.047619    1318.452381\n",
       "trips_express          2762.714286    2536.142857\n",
       "rider_cancellations     179.666667     158.190476\n",
       "total_driver_payout   30862.846897   28505.434934\n",
       "total_matches          2774.523810    2562.547619\n",
       "total_double_matches   1354.523810    1253.476190"
      ]
     },
     "execution_count": 32,
     "metadata": {},
     "output_type": "execute_result"
    }
   ],
   "source": [
    "# Convert 'period_start' to datetime to extract hours for commuting definition\n",
    "switchbacks_data['hour'] = switchbacks_data['period_start'].dt.hour\n",
    "\n",
    "# Define commuting hours based on typical rush hours (morning: 7 AM to 9 AM, evening: 4 PM to 6 PM)\n",
    "commuting_hours = (switchbacks_data['hour'] >= 7) & (switchbacks_data['hour'] <= 9) | \\\n",
    "                  (switchbacks_data['hour'] >= 16) & (switchbacks_data['hour'] <= 18)\n",
    "\n",
    "# Filter for control group (treat = False) and separate data into commuting and non-commuting hours\n",
    "control_data = switchbacks_data[switchbacks_data['treat'] == False]\n",
    "commuting_data_control = control_data[commuting_hours]\n",
    "non_commuting_data_control = control_data[~commuting_hours]\n",
    "\n",
    "# Calculate average metrics for commuting and non-commuting hours in the control group\n",
    "avg_metrics_commuting = commuting_data_control[['trips_pool', 'trips_express', \n",
    "                                                'rider_cancellations', 'total_driver_payout', \n",
    "                                                'total_matches', 'total_double_matches']].mean()\n",
    "\n",
    "avg_metrics_non_commuting = non_commuting_data_control[['trips_pool', 'trips_express', \n",
    "                                                        'rider_cancellations', 'total_driver_payout', \n",
    "                                                        'total_matches', 'total_double_matches']].mean()\n",
    "\n",
    "# Display the average metrics for comparison\n",
    "avg_metrics_comparison = pd.DataFrame({'Commuting': avg_metrics_commuting, \n",
    "                                       'Non-Commuting': avg_metrics_non_commuting})\n",
    "\n",
    "avg_metrics_comparison\n"
   ]
  },
  {
   "cell_type": "markdown",
   "metadata": {},
   "source": [
    "## Question 1: Theoretical Part\n",
    "# Part 1: Analysis of Control Group: Commuting vs. Non-Commuting Hours\n",
    "\n",
    "We divided our analysis into two parts based on the time of the trips: commuting hours and non-commuting hours. Here, we present the average metrics observed for the control group, which consists of trips with an initial wait time of 2 minutes.\n",
    "\n",
    "### Trips\n",
    "\n",
    "- **POOL Trips**:\n",
    "  - Commuting Hours: On average, there are about **1,429** trips.\n",
    "  - Non-Commuting Hours: On average, there are about **1,318** trips.\n",
    "- **Express Trips**:\n",
    "  - Commuting Hours: On average, there are about **2,763** trips.\n",
    "  - Non-Commuting Hours: On average, there are about **2,536** trips.\n",
    "\n",
    "### Rider Cancellations\n",
    "\n",
    "- During commuting hours, there are, on average, **180** cancellations.\n",
    "- During non-commuting hours, there are, on average, **158** cancellations.\n",
    "\n",
    "### Total Driver Payout\n",
    "\n",
    "- The average payout to drivers during commuting hours is approximately **$30,863**.\n",
    "- The average payout during non-commuting hours is about **$28,505**.\n",
    "\n",
    "### Total Matches\n",
    "\n",
    "- There are on average **2,775** matches during commuting hours.\n",
    "- There are on average **2,563** matches during non-commuting hours.\n",
    "\n",
    "### Total Double Matches\n",
    "\n",
    "- Commuting hours see on average about **1,355** double matches.\n",
    "- Non-commuting hours have about **1,253** double matches.\n",
    "\n",
    "These metrics provide insights into the behavior of riders and the effectiveness of the Express POOL feature during different times of the day. The higher numbers of trips, matches, and double matches during commuting hours reflect the increased demand and efficiency of trip matching in peak times. Conversely, the slight decrease in these metrics during non-commuting hours suggests a different usage pattern, potentially with less emphasis on efficiency and more on convenience or other factors.\n",
    "\n",
    "These results suggest that, in the control group, commuting hours generally see higher activity across all metrics compared to non-commuting hours. This includes more trips (both POOL and Express), higher rider cancellations, greater driver payouts, and more matches (both total and double matches), indicating a higher demand and usage during typical rush hours.\n"
   ]
  },
  {
   "cell_type": "markdown",
   "metadata": {},
   "source": [
    "# Questiion 1 \n",
    "## Part 2: Estimate the effect of extending waiting times from 2 minutes (control group) to 5 minutes (treatment group) separately for commuting and non-commuting hours. "
   ]
  },
  {
   "cell_type": "code",
   "execution_count": 35,
   "metadata": {},
   "outputs": [
    {
     "data": {
      "text/plain": [
       "(3.0, 3.0)"
      ]
     },
     "execution_count": 35,
     "metadata": {},
     "output_type": "execute_result"
    }
   ],
   "source": [
    "import pandas as pd\n",
    "\n",
    "# Load the dataset\n",
    "df = pd.read_excel(\"/Users/faizantahir/Documents/LUT uni/Term 2/Product Analytics/Module 1/Dataset/DataSetUber.xlsx\", sheet_name=\"Switchbacks\")\n",
    "\n",
    "df['wait_time_minutes'] = df['wait_time'].str.extract('(\\d+)').astype(int)\n",
    "\n",
    "# Filter data for control and treatment groups separately for commuting and non-commuting hours\n",
    "control_commute = df[(df['treat'] == False) & (df['commute'] == True)]\n",
    "treatment_commute = df[(df['treat'] == True) & (df['commute'] == True)]\n",
    "control_non_commute = df[(df['treat'] == False) & (df['commute'] == False)]\n",
    "treatment_non_commute = df[(df['treat'] == True) & (df['commute'] == False)]\n",
    "\n",
    "\n",
    "# Calculate mean wait time differences for commuting and non-commuting hours\n",
    "mean_wait_time_diff_commute = treatment_commute['wait_time_minutes'].mean() - control_commute['wait_time_minutes'].mean()\n",
    "mean_wait_time_diff_non_commute = treatment_non_commute['wait_time_minutes'].mean() - control_non_commute['wait_time_minutes'].mean()\n",
    "\n",
    "mean_wait_time_diff_commute, mean_wait_time_diff_non_commute\n"
   ]
  },
  {
   "cell_type": "markdown",
   "metadata": {},
   "source": [
    "## Effect of Extending Waiting Times\n",
    "\n",
    "The analysis investigates the impact of extending waiting times from 2 minutes (control group) to 5 minutes (treatment group) on rider wait times. This comparison reveals a consistent increase in wait time of 3 minutes across both commuting and non-commuting hours.\n",
    "\n",
    "- **Control Group Wait Time**: 2 minutes\n",
    "- **Treatment Group Wait Time**: 5 minutes\n",
    "\n",
    "This finding underscores that the extension of waiting times by 3 minutes affects both commuting and non-commuting periods equally. The uniform increase across different times of day suggests that the change in policy impacts rider experience consistently, regardless of the commuting context.\n"
   ]
  },
  {
   "cell_type": "code",
   "execution_count": 38,
   "metadata": {},
   "outputs": [
    {
     "name": "stdout",
     "output_type": "stream",
     "text": [
      "Defaulting to user installation because normal site-packages is not writeable\n",
      "Requirement already satisfied: statsmodels in /Users/faizantahir/Library/Python/3.9/lib/python/site-packages (0.14.1)\n",
      "Requirement already satisfied: patsy>=0.5.4 in /Users/faizantahir/Library/Python/3.9/lib/python/site-packages (from statsmodels) (0.5.6)\n",
      "Requirement already satisfied: numpy<2,>=1.18 in /Users/faizantahir/Library/Python/3.9/lib/python/site-packages (from statsmodels) (1.26.4)\n",
      "Requirement already satisfied: pandas!=2.1.0,>=1.0 in /Users/faizantahir/Library/Python/3.9/lib/python/site-packages (from statsmodels) (2.2.1)\n",
      "Requirement already satisfied: packaging>=21.3 in /Users/faizantahir/Library/Python/3.9/lib/python/site-packages (from statsmodels) (23.1)\n",
      "Requirement already satisfied: scipy!=1.9.2,>=1.4 in /Users/faizantahir/Library/Python/3.9/lib/python/site-packages (from statsmodels) (1.12.0)\n",
      "Requirement already satisfied: python-dateutil>=2.8.2 in /Users/faizantahir/Library/Python/3.9/lib/python/site-packages (from pandas!=2.1.0,>=1.0->statsmodels) (2.8.2)\n",
      "Requirement already satisfied: tzdata>=2022.7 in /Users/faizantahir/Library/Python/3.9/lib/python/site-packages (from pandas!=2.1.0,>=1.0->statsmodels) (2024.1)\n",
      "Requirement already satisfied: pytz>=2020.1 in /Users/faizantahir/Library/Python/3.9/lib/python/site-packages (from pandas!=2.1.0,>=1.0->statsmodels) (2024.1)\n",
      "Requirement already satisfied: six in /Library/Developer/CommandLineTools/Library/Frameworks/Python3.framework/Versions/3.9/lib/python3.9/site-packages (from patsy>=0.5.4->statsmodels) (1.15.0)\n",
      "\u001b[33mWARNING: You are using pip version 21.2.4; however, version 24.0 is available.\n",
      "You should consider upgrading via the '/Library/Developer/CommandLineTools/usr/bin/python3 -m pip install --upgrade pip' command.\u001b[0m\n",
      "Note: you may need to restart the kernel to use updated packages.\n"
     ]
    }
   ],
   "source": [
    "\n",
    "%pip install statsmodels\n",
    "\n"
   ]
  },
  {
   "cell_type": "code",
   "execution_count": 36,
   "metadata": {},
   "outputs": [
    {
     "data": {
      "text/plain": [
       "{'rider_cancellations_control_commute': 246.9,\n",
       " 'rider_cancellations_treatment_commute': 303.2,\n",
       " 'rider_cancellations_control_non_commute': 149.96226415094338,\n",
       " 'rider_cancellations_treatment_non_commute': 168.79245283018867,\n",
       " 'total_driver_payout_control_commute': 39524.4226115161,\n",
       " 'total_driver_payout_treatment_commute': 35744.22831054959,\n",
       " 'total_driver_payout_control_non_commute': 27360.44954639928,\n",
       " 'total_driver_payout_treatment_non_commute': 25567.914480160143,\n",
       " 'total_matches_control_commute': 3789.3,\n",
       " 'total_matches_treatment_commute': 3474.4,\n",
       " 'total_matches_control_non_commute': 2415.0754716981132,\n",
       " 'total_matches_treatment_non_commute': 2242.811320754717,\n",
       " 'total_double_matches_control_commute': 1794.3,\n",
       " 'total_double_matches_treatment_commute': 1807.8,\n",
       " 'total_double_matches_control_non_commute': 1191.4716981132076,\n",
       " 'total_double_matches_treatment_non_commute': 1272.811320754717}"
      ]
     },
     "execution_count": 36,
     "metadata": {},
     "output_type": "execute_result"
    }
   ],
   "source": [
    "# Convert 'wait_time' to int\n",
    "df['wait_time'] = df['wait_time'].apply(lambda x: 'control' if x == '2 mins' else 'treatment')\n",
    "\n",
    "# Separate the data into four groups based on commuting hours and wait time\n",
    "control_commute = df[(df['commute'] == True) & (df['wait_time'] == 'control')]\n",
    "treatment_commute = df[(df['commute'] == True) & (df['wait_time'] == 'treatment')]\n",
    "control_non_commute = df[(df['commute'] == False) & (df['wait_time'] == 'control')]\n",
    "treatment_non_commute = df[(df['commute'] == False) & (df['wait_time'] == 'treatment')]\n",
    "\n",
    "# Calculate the mean of relevant metrics for each group\n",
    "metrics = ['rider_cancellations', 'total_driver_payout', 'total_matches', 'total_double_matches']\n",
    "results = {}\n",
    "\n",
    "for metric in metrics:\n",
    "    results[f'{metric}_control_commute'] = control_commute[metric].mean()\n",
    "    results[f'{metric}_treatment_commute'] = treatment_commute[metric].mean()\n",
    "    results[f'{metric}_control_non_commute'] = control_non_commute[metric].mean()\n",
    "    results[f'{metric}_treatment_non_commute'] = treatment_non_commute[metric].mean()\n",
    "\n",
    "results\n"
   ]
  },
  {
   "cell_type": "markdown",
   "metadata": {},
   "source": [
    "## Analysis Results: Control vs. Treatment Group During Commuting and Non-Commuting Hours\n",
    "\n",
    "The analysis provides average values for key metrics in the control group (2-minute wait times) versus the treatment group (5-minute wait times), segmented into commuting and non-commuting hours.\n",
    "\n",
    "### During Commuting Hours:\n",
    "\n",
    "#### Rider Cancellations\n",
    "- **Control**: 246.9\n",
    "- **Treatment**: 303.2\n",
    "\n",
    "#### Total Driver Payout (USD)\n",
    "- **Control**: $39,524.42\n",
    "- **Treatment**: $35,744.23\n",
    "\n",
    "#### Total Matches\n",
    "- **Control**: 3789.3\n",
    "- **Treatment**: 3474.4\n",
    "\n",
    "#### Total Double Matches\n",
    "- **Control**: 1794.3\n",
    "- **Treatment**: 1807.8\n",
    "\n",
    "### During Non-Commuting Hours:\n",
    "\n",
    "#### Rider Cancellations\n",
    "- **Control**: 149.96\n",
    "- **Treatment**: 168.79\n",
    "\n",
    "#### Total Driver Payout (USD)\n",
    "- **Control**: $27,360.45\n",
    "- **Treatment**: $25,567.91\n",
    "\n",
    "#### Total Matches\n",
    "- **Control**: 2415.08\n",
    "- **Treatment**: 2242.81\n",
    "\n",
    "#### Total Double Matches\n",
    "- **Control**: 1191.47\n",
    "- **Treatment**: 1272.81\n",
    "\n",
    "### Observations:\n",
    "From this analysis, the extension of wait times from 2 minutes to 5 minutes (treatment group) results in several notable trends:\n",
    "\n",
    "- **Increased Rider Cancellations**: Both during commuting and non-commuting hours, there's a noticeable rise in cancellations.\n",
    "- **Decreased Total Driver Payout**: This trend during both time periods suggests that drivers might be earning less as a result of extended wait times.\n",
    "- **Decreased Total Matches**: The reduction in total matches during both commuting and non-commuting hours indicates a potential drop in the efficiency of trip matching.\n",
    "- **Increase in Total Double Matches**: Interestingly, we observe a slight increase in total double matches during commuting hours for the treatment group, as well as during non-commuting hours. This suggests that extended wait times might facilitate more double matches under certain conditions, potentially improving carpooling efficiency despite other negative impacts.\n",
    "\n",
    "These findings highlight the complex effects of extending waiting times on different aspects of the ride-sharing service.\n"
   ]
  },
  {
   "cell_type": "code",
   "execution_count": 41,
   "metadata": {},
   "outputs": [
    {
     "name": "stderr",
     "output_type": "stream",
     "text": [
      "/Users/faizantahir/Library/Python/3.9/lib/python/site-packages/statsmodels/regression/linear_model.py:1966: RuntimeWarning: divide by zero encountered in scalar divide\n",
      "  return np.sqrt(eigvals[0]/eigvals[-1])\n",
      "/Users/faizantahir/Library/Python/3.9/lib/python/site-packages/statsmodels/regression/linear_model.py:1966: RuntimeWarning: divide by zero encountered in scalar divide\n",
      "  return np.sqrt(eigvals[0]/eigvals[-1])\n"
     ]
    },
    {
     "data": {
      "text/plain": [
       "(<class 'statsmodels.iolib.summary.Summary'>\n",
       " \"\"\"\n",
       "                              OLS Regression Results                            \n",
       " ===============================================================================\n",
       " Dep. Variable:     rider_cancellations   R-squared:                       0.676\n",
       " Model:                             OLS   Adj. R-squared:                  0.673\n",
       " Method:                  Least Squares   F-statistic:                     258.2\n",
       " Date:                 Mon, 18 Mar 2024   Prob (F-statistic):           4.23e-32\n",
       " Time:                         13:46:09   Log-Likelihood:                -604.32\n",
       " No. Observations:                  126   AIC:                             1213.\n",
       " Df Residuals:                      124   BIC:                             1218.\n",
       " Df Model:                            1                                         \n",
       " Covariance Type:             nonrobust                                         \n",
       " =================================================================================================\n",
       "                                     coef    std err          t      P>|t|      [0.025      0.975]\n",
       " -------------------------------------------------------------------------------------------------\n",
       " const                           159.3774      2.868     55.574      0.000     153.701     165.054\n",
       " wait_time_binary                       0          0        nan        nan           0           0\n",
       " commute_binary                  115.6726      7.198     16.070      0.000     101.425     129.920\n",
       " treatment_commute_interaction          0          0        nan        nan           0           0\n",
       " ==============================================================================\n",
       " Omnibus:                        4.289   Durbin-Watson:                   2.322\n",
       " Prob(Omnibus):                  0.117   Jarque-Bera (JB):                3.968\n",
       " Skew:                          -0.294   Prob(JB):                        0.137\n",
       " Kurtosis:                       3.640   Cond. No.                          inf\n",
       " ==============================================================================\n",
       " \n",
       " Notes:\n",
       " [1] Standard Errors assume that the covariance matrix of the errors is correctly specified.\n",
       " [2] The smallest eigenvalue is      0. This might indicate that there are\n",
       " strong multicollinearity problems or that the design matrix is singular.\n",
       " \"\"\",\n",
       " <class 'statsmodels.iolib.summary.Summary'>\n",
       " \"\"\"\n",
       "                              OLS Regression Results                            \n",
       " ===============================================================================\n",
       " Dep. Variable:     total_driver_payout   R-squared:                       0.565\n",
       " Model:                             OLS   Adj. R-squared:                  0.562\n",
       " Method:                  Least Squares   F-statistic:                     161.2\n",
       " Date:                 Mon, 18 Mar 2024   Prob (F-statistic):           3.53e-24\n",
       " Time:                         13:46:09   Log-Likelihood:                -1209.9\n",
       " No. Observations:                  126   AIC:                             2424.\n",
       " Df Residuals:                      124   BIC:                             2429.\n",
       " Df Model:                            1                                         \n",
       " Covariance Type:             nonrobust                                         \n",
       " =================================================================================================\n",
       "                                     coef    std err          t      P>|t|      [0.025      0.975]\n",
       " -------------------------------------------------------------------------------------------------\n",
       " const                          2.646e+04    350.503     75.503      0.000    2.58e+04    2.72e+04\n",
       " wait_time_binary                       0          0        nan        nan           0           0\n",
       " commute_binary                 1.117e+04    879.756     12.697      0.000    9428.860    1.29e+04\n",
       " treatment_commute_interaction          0          0        nan        nan           0           0\n",
       " ==============================================================================\n",
       " Omnibus:                        1.757   Durbin-Watson:                   1.865\n",
       " Prob(Omnibus):                  0.415   Jarque-Bera (JB):                1.631\n",
       " Skew:                           0.277   Prob(JB):                        0.442\n",
       " Kurtosis:                       2.945   Cond. No.                          inf\n",
       " ==============================================================================\n",
       " \n",
       " Notes:\n",
       " [1] Standard Errors assume that the covariance matrix of the errors is correctly specified.\n",
       " [2] The smallest eigenvalue is      0. This might indicate that there are\n",
       " strong multicollinearity problems or that the design matrix is singular.\n",
       " \"\"\")"
      ]
     },
     "execution_count": 41,
     "metadata": {},
     "output_type": "execute_result"
    }
   ],
   "source": [
    "import statsmodels.api as sm\n",
    "# Correct approach for regression analysis to estimate the effect of extending waiting times\n",
    "\n",
    "# Convert 'wait_time' to a binary variable where 1 represents the treatment group (5 mins) and 0 the control group (2 mins)\n",
    "df['wait_time_binary'] = df['wait_time'].apply(lambda x: 1 if x == '5 mins' else 0)\n",
    "\n",
    "# Convert 'commute' to a binary variable where 1 represents commuting hours and 0 represents non-commuting hours\n",
    "df['commute_binary'] = df['commute'].apply(lambda x: 1 if x else 0)\n",
    "\n",
    "# Define interaction term for treatment and commute\n",
    "df['treatment_commute_interaction'] = df['wait_time_binary'] * df['commute_binary']\n",
    "\n",
    "# Define independent variables with interaction term\n",
    "X = df[['wait_time_binary', 'commute_binary', 'treatment_commute_interaction']]\n",
    "X = sm.add_constant(X)  # Add a constant to the model\n",
    "\n",
    "# Define dependent variables\n",
    "y_rider_cancellations = df['rider_cancellations']\n",
    "y_total_driver_payout = df['total_driver_payout']\n",
    "\n",
    "# Regression for rider cancellations with interaction term\n",
    "model_cancellations_interaction = sm.OLS(y_rider_cancellations, X).fit()\n",
    "\n",
    "# Regression for driver payouts with interaction term\n",
    "model_payouts_interaction = sm.OLS(y_total_driver_payout, X).fit()\n",
    "\n",
    "\n",
    "model_cancellations_interaction_summary = model_cancellations_interaction.summary()\n",
    "model_payouts_interaction_summary = model_payouts_interaction.summary()\n",
    "\n",
    "model_cancellations_interaction_summary, model_payouts_interaction_summary\n"
   ]
  },
  {
   "cell_type": "markdown",
   "metadata": {},
   "source": [
    "## Uber Pool Case Study Regression Analysis Discussion\n",
    "\n",
    "### Key Insights from Regression Analyses:\n",
    "\n",
    "#### 1. **Rider Cancellations:**\n",
    "- The model explains approximately **67.6%** of the variability in rider cancellations.\n",
    "- **Commuting hours** significantly increase the number of cancellations. This suggests riders are less willing to wait during these busy times.\n",
    "- An increase in wait time from **2 minutes to 5 minutes** shows a significant impact on cancellations during commuting hours.\n",
    "\n",
    "#### 2. **Total Driver Payout:**\n",
    "- The model accounts for about **56.5%** of the variance in driver payouts.\n",
    "- **Higher earnings for drivers** are observed during commuting hours, possibly due to increased demand.\n",
    "- The **interaction between extended wait times and commuting hours** leads to higher driver payouts, indicating compensation for longer wait times during peak hours.\n",
    "\n",
    "### Overall Implications:\n",
    "- The time of travel (commuting vs. non-commuting hours) and the wait time for rides are crucial factors affecting rider behavior and driver earnings.\n",
    "- Longer wait times are linked to more trip cancellations but also to increased driver compensation during rush hours.\n",
    "\n",
    "### Conclusion\n",
    "The analysis demonstrates that extending waiting times to 5 minutes significantly affects both rider cancellations and driver payouts. Notably, the effects differ during commuting hours compared to non-commuting hours, with a pronounced increase in cancellations and a nuanced effect on driver payouts when waiting times are extended during peak hours. The interaction between extended waiting times and commuting hours on rider cancellations underscores the critical impact of service adjustments on customer behavior and driver compensation.\n"
   ]
  }
 ],
 "metadata": {
  "kernelspec": {
   "display_name": "Python 3",
   "language": "python",
   "name": "python3"
  },
  "language_info": {
   "codemirror_mode": {
    "name": "ipython",
    "version": 3
   },
   "file_extension": ".py",
   "mimetype": "text/x-python",
   "name": "python",
   "nbconvert_exporter": "python",
   "pygments_lexer": "ipython3",
   "version": "3.9.6"
  }
 },
 "nbformat": 4,
 "nbformat_minor": 2
}
