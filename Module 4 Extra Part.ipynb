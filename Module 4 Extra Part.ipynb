{
 "cells": [
  {
   "cell_type": "markdown",
   "metadata": {},
   "source": [
    "# Part 2"
   ]
  },
  {
   "cell_type": "code",
   "execution_count": 13,
   "metadata": {},
   "outputs": [
    {
     "data": {
      "text/plain": [
       "(   ID  renew         clv  promotion  tenure     past.60    past.30     past.7  \\\n",
       " 0   1      1  530.597749          0       4   30.853966  24.798221   4.288178   \n",
       " 1   2      1    0.000000          1      11    4.016695   3.431347   1.715674   \n",
       " 2   3      0    0.000000          0       6    4.726262   3.766871   1.120972   \n",
       " 3   4      1  521.434232          0       1  170.520011  74.016872  20.839214   \n",
       " 4   5      1    0.000000          0       9    0.570165   0.000000   0.000000   \n",
       " \n",
       "    data  international  family  cust_service  os  \n",
       " 0     0              0       1             1   2  \n",
       " 1     1              1       0             4   1  \n",
       " 2     1              1       0             3   1  \n",
       " 3     1              0       1             3   1  \n",
       " 4     1              0       0             1   1  ,\n",
       "       ID  tenure  past.60  past.30  past.7  data  international  family  \\\n",
       " 0  10001       7   144.47    74.44   27.46     1              1       1   \n",
       " 1  10002       7    45.26    27.46    1.55     1              1       1   \n",
       " 2  10003       4     4.97     4.97    0.00     1              0       0   \n",
       " 3  10004       9   238.13    98.49   13.56     1              0       1   \n",
       " 4  10005       8     3.62     1.68    0.31     0              1       1   \n",
       " \n",
       "    cust_service  os  \n",
       " 0             1   2  \n",
       " 1             0   2  \n",
       " 2             1   2  \n",
       " 3             3   1  \n",
       " 4             2   3  )"
      ]
     },
     "execution_count": 13,
     "metadata": {},
     "output_type": "execute_result"
    }
   ],
   "source": [
    "import pandas as pd\n",
    "\n",
    "# Load the Excel file to get an overview of its content\n",
    "excel_file = pd.ExcelFile('/Users/faizantahir/Documents/LUT uni/Term 2/Product Analytics/Module 4/Part 2 Data/524702-XLS-ENG.xlsx')\n",
    "excel_file.sheet_names\n",
    "july_data = pd.read_excel(excel_file, sheet_name='July data')\n",
    "august_data = pd.read_excel(excel_file, sheet_name='August data')\n",
    "\n",
    "july_data.head(), august_data.head()\n"
   ]
  },
  {
   "cell_type": "code",
   "execution_count": 14,
   "metadata": {},
   "outputs": [
    {
     "data": {
      "text/html": [
       "<div>\n",
       "<style scoped>\n",
       "    .dataframe tbody tr th:only-of-type {\n",
       "        vertical-align: middle;\n",
       "    }\n",
       "\n",
       "    .dataframe tbody tr th {\n",
       "        vertical-align: top;\n",
       "    }\n",
       "\n",
       "    .dataframe thead th {\n",
       "        text-align: right;\n",
       "    }\n",
       "</style>\n",
       "<table border=\"1\" class=\"dataframe\">\n",
       "  <thead>\n",
       "    <tr style=\"text-align: right;\">\n",
       "      <th></th>\n",
       "      <th>promotion</th>\n",
       "      <th>renew</th>\n",
       "    </tr>\n",
       "  </thead>\n",
       "  <tbody>\n",
       "    <tr>\n",
       "      <th>0</th>\n",
       "      <td>0</td>\n",
       "      <td>0.745223</td>\n",
       "    </tr>\n",
       "    <tr>\n",
       "      <th>1</th>\n",
       "      <td>1</td>\n",
       "      <td>0.815113</td>\n",
       "    </tr>\n",
       "  </tbody>\n",
       "</table>\n",
       "</div>"
      ],
      "text/plain": [
       "   promotion     renew\n",
       "0          0  0.745223\n",
       "1          1  0.815113"
      ]
     },
     "execution_count": 14,
     "metadata": {},
     "output_type": "execute_result"
    }
   ],
   "source": [
    "# Calculate the renewal rates for customers who received promotions vs. those who did not in July data\n",
    "promotion_renewal_rate = july_data.groupby('promotion')['renew'].mean().reset_index()\n",
    "\n",
    "promotion_renewal_rate\n"
   ]
  },
  {
   "cell_type": "markdown",
   "metadata": {},
   "source": [
    "## Analysis Results\n",
    "\n",
    "### Renewal Rates Analysis\n",
    "- Customers without promotions: Approximately 74.5% renewal rate.\n",
    "- Customers with promotions: Approximately 81.5% renewal rate.\n",
    "\n",
    "### Conclusions\n",
    "- **Problem Ms. Garcia is Facing:** Based on the data, it appears that Ms. Garcia is dealing with issues related to customer retention. The differential in renewal rates suggests that customers receiving promotions are more likely to renew their services.\n",
    "- **Effectiveness of the July Campaign (A/B Test):** The promotion seems effective, as evidenced by a higher renewal rate among those who received it compared to those who did not.\n"
   ]
  },
  {
   "cell_type": "code",
   "execution_count": 15,
   "metadata": {},
   "outputs": [
    {
     "data": {
      "text/html": [
       "<div>\n",
       "<style scoped>\n",
       "    .dataframe tbody tr th:only-of-type {\n",
       "        vertical-align: middle;\n",
       "    }\n",
       "\n",
       "    .dataframe tbody tr th {\n",
       "        vertical-align: top;\n",
       "    }\n",
       "\n",
       "    .dataframe thead th {\n",
       "        text-align: right;\n",
       "    }\n",
       "</style>\n",
       "<table border=\"1\" class=\"dataframe\">\n",
       "  <thead>\n",
       "    <tr style=\"text-align: right;\">\n",
       "      <th></th>\n",
       "      <th>ID</th>\n",
       "      <th>clv</th>\n",
       "      <th>promotion</th>\n",
       "      <th>tenure</th>\n",
       "      <th>past.60</th>\n",
       "      <th>past.30</th>\n",
       "      <th>past.7</th>\n",
       "      <th>data</th>\n",
       "      <th>international</th>\n",
       "      <th>family</th>\n",
       "      <th>cust_service</th>\n",
       "      <th>os</th>\n",
       "    </tr>\n",
       "    <tr>\n",
       "      <th>renew</th>\n",
       "      <th></th>\n",
       "      <th></th>\n",
       "      <th></th>\n",
       "      <th></th>\n",
       "      <th></th>\n",
       "      <th></th>\n",
       "      <th></th>\n",
       "      <th></th>\n",
       "      <th></th>\n",
       "      <th></th>\n",
       "      <th></th>\n",
       "      <th></th>\n",
       "    </tr>\n",
       "  </thead>\n",
       "  <tbody>\n",
       "    <tr>\n",
       "      <th>0</th>\n",
       "      <td>5072.264091</td>\n",
       "      <td>0.000000</td>\n",
       "      <td>0.418182</td>\n",
       "      <td>7.339091</td>\n",
       "      <td>20.443014</td>\n",
       "      <td>9.521965</td>\n",
       "      <td>2.340868</td>\n",
       "      <td>0.580000</td>\n",
       "      <td>0.400455</td>\n",
       "      <td>0.135000</td>\n",
       "      <td>3.518636</td>\n",
       "      <td>1.676364</td>\n",
       "    </tr>\n",
       "    <tr>\n",
       "      <th>1</th>\n",
       "      <td>4980.258846</td>\n",
       "      <td>217.531448</td>\n",
       "      <td>0.520000</td>\n",
       "      <td>11.423974</td>\n",
       "      <td>38.463106</td>\n",
       "      <td>18.721655</td>\n",
       "      <td>4.805058</td>\n",
       "      <td>0.760641</td>\n",
       "      <td>0.396538</td>\n",
       "      <td>0.425769</td>\n",
       "      <td>1.619744</td>\n",
       "      <td>1.678846</td>\n",
       "    </tr>\n",
       "  </tbody>\n",
       "</table>\n",
       "</div>"
      ],
      "text/plain": [
       "                ID         clv  promotion     tenure    past.60    past.30  \\\n",
       "renew                                                                        \n",
       "0      5072.264091    0.000000   0.418182   7.339091  20.443014   9.521965   \n",
       "1      4980.258846  217.531448   0.520000  11.423974  38.463106  18.721655   \n",
       "\n",
       "         past.7      data  international    family  cust_service        os  \n",
       "renew                                                                       \n",
       "0      2.340868  0.580000       0.400455  0.135000      3.518636  1.676364  \n",
       "1      4.805058  0.760641       0.396538  0.425769      1.619744  1.678846  "
      ]
     },
     "execution_count": 15,
     "metadata": {},
     "output_type": "execute_result"
    }
   ],
   "source": [
    "\n",
    "# Calculate mean values for these factors grouped by renewal status\n",
    "characteristics_by_renewal = july_data.groupby('renew').mean()\n",
    "\n",
    "characteristics_by_renewal\n"
   ]
  },
  {
   "cell_type": "markdown",
   "metadata": {},
   "source": [
    "## Insights from July Campaign Data Analysis\n",
    "\n",
    "The table above shows the mean values of various characteristics for customers who did and did not renew their subscriptions. Here are the key insights:\n",
    "\n",
    "### Customer Lifetime Value (CLV)\n",
    "- **Renewed**: Average CLV is approximately 217.53.\n",
    "- **Not Renewed**: CLV is 0, indicating that non-renewing customers may not have been recognized as generating future revenue, or CLV was not calculated because they did not renew.\n",
    "\n",
    "### Promotion\n",
    "- A higher proportion of customers who renewed (52%) received promotions compared to those who did not renew (41.8%).\n",
    "\n",
    "### Tenure\n",
    "- Customers who renewed have a longer average tenure (about 11.4 months) compared to those who did not (about 7.3 months), suggesting that longer-tenured customers are more likely to renew.\n",
    "\n",
    "### Usage Patterns (Past 60, 30, 7 days)\n",
    "- Renewed customers show higher usage in the last 60, 30, and 7 days, indicating that active users are more likely to renew.\n",
    "\n",
    "### Data Usage\n",
    "- A higher percentage of renewing customers use data services (76%) compared to non-renewers (58%).\n",
    "\n",
    "### International Plans and Family Plans\n",
    "- International plan usage does not vary significantly between groups, but a higher percentage of renewers have family plans (42.6%) compared to non-renewers (13.5%).\n",
    "\n",
    "### Customer Service Interactions\n",
    "- Customers who did not renew had more customer service interactions on average (3.5) compared to those who renewed (1.6), suggesting that negative service experiences or unresolved issues may impact renewal decisions.\n",
    "\n",
    "### Operating System (OS)\n",
    "- There's no significant difference in OS distribution between renewed and non-renewed customers.\n",
    "\n",
    "## Recommendations and Strategy for Future Campaigns\n",
    "\n",
    "### Effectiveness of Retention Campaign\n",
    "- The retention campaign, as represented by the promotion, seems to have had a positive effect on customer retention rates. The higher renewal rates among promoted customers suggest that such initiatives can effectively enhance customer loyalty.\n",
    "\n",
    "### Targeting for Future Campaigns\n",
    "- **Prioritize Customers Based on Tenure and Usage**: Given that longer tenure and higher usage rates correlate with higher renewal rates, Teleko might consider targeting customers who are actively using their services but have not yet reached a long tenure.\n",
    "- **Focus on Data Users and Family Plans**: Since these features are associated with higher renewal rates, promoting special offers or enhancements on data packages and family plans could be effective.\n",
    "- **Address High Interaction Customers**: Implementing better support for customers with high numbers of service calls might prevent churn.\n",
    "\n",
    "### Selective Retention Incentives\n",
    "- Not all customers should receive the same retention incentives. Tailored promotions based on customer usage patterns, tenure, and service needs can be more cost-effective and impactful.\n",
    "\n",
    "### Estimating Impact of Targeting Strategy\n",
    "- To estimate the retention rate and CLV impact of this targeting strategy, a more detailed predictive modeling approach using machine learning could be applied. This would allow Teleko to simulate different scenarios and predict outcomes based on historical data trends.\n"
   ]
  }
 ],
 "metadata": {
  "kernelspec": {
   "display_name": "Python 3",
   "language": "python",
   "name": "python3"
  },
  "language_info": {
   "codemirror_mode": {
    "name": "ipython",
    "version": 3
   },
   "file_extension": ".py",
   "mimetype": "text/x-python",
   "name": "python",
   "nbconvert_exporter": "python",
   "pygments_lexer": "ipython3",
   "version": "3.9.6"
  }
 },
 "nbformat": 4,
 "nbformat_minor": 2
}
